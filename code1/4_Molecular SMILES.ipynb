{
 "cells": [
  {
   "cell_type": "code",
   "execution_count": 33,
   "metadata": {},
   "outputs": [],
   "source": [
    "import numpy as np\n",
    "from tqdm import tqdm\n",
    "import re\n",
    "import pickle\n",
    "from multiprocessing import Pool\n",
    "from tqdm import tqdm\n",
    "from rdkit import Chem\n",
    "from rdkit import RDLogger\n",
    "from rdkit.Chem import Draw\n",
    "from multiprocessing import Pool\n",
    "import pandas as pd\n",
    "\n",
    "RDLogger.DisableLog('rdApp.*')"
   ]
  },
  {
   "cell_type": "code",
   "execution_count": 2,
   "metadata": {},
   "outputs": [],
   "source": [
    "NUM_LEN = 100"
   ]
  },
  {
   "cell_type": "code",
   "execution_count": 3,
   "metadata": {},
   "outputs": [
    {
     "name": "stderr",
     "output_type": "stream",
     "text": [
      "100%|██████████| 100/100 [00:00<00:00, 103384.37it/s]\n"
     ]
    }
   ],
   "source": [
    "with open(\"./data/CID-SMILES\",\"r\") as f:\n",
    "    lines = [ f.readline() for _ in tqdm(range(NUM_LEN)) ]\n",
    "    #f.readlines()\n",
    "    list_smiles = list( map(lambda line: re.split(\"\\s+\", line.strip() )[-1], lines ) )\n",
    "    \n",
    "np.random.seed(1)\n",
    "np.random.shuffle(list_smiles)"
   ]
  },
  {
   "cell_type": "code",
   "execution_count": 4,
   "metadata": {},
   "outputs": [
    {
     "data": {
      "text/plain": [
       "['CC(C)(COP(=O)(O)OP(=O)(O)OCC1C(C(C(O1)N2C=NC3=C(N=CN=C32)N)O)OP(=O)(O)O)C(C(=O)NCCC(=O)NCCSC(=O)CC(C)(CC(=O)O)O)O',\n",
       " 'CC(CO)C(=O)SCCNC(=O)CCNC(=O)C(C(C)(C)COP(=O)(O)OP(=O)(O)OCC1C(C(C(O1)N2C=NC3=C(N=CN=C32)N)O)OP(=O)(O)O)O',\n",
       " 'C(C(C(CO)O)O)C(=O)C(=O)O',\n",
       " 'C[N+](C)(C)CC(CC(=O)O)O',\n",
       " 'C(C1C(C(C(C(O1)O)O)O)OC2C(C(=O)C(C(O2)CO)O)O)O',\n",
       " 'C1=CC(=C(C(=C1)O)O)C(=O)O',\n",
       " 'C1C(C(C(OC1O)CO)O)O',\n",
       " 'C1=CC(=C(C(=C1)O)N)C(=O)O',\n",
       " 'C1=NC(=C2C(=N1)N(C=N2)C3C(C(C(O3)COP(=O)(O)O)OP(=O)(O)O)O)N',\n",
       " 'CC(=O)C=CC=C(C(=O)O)O',\n",
       " 'CC(=O)CC(=O)O',\n",
       " 'C(CC(=O)O)C(C(=O)O)O',\n",
       " 'CC(CO)(C(COP(=O)(O)OP(=O)(O)OCC1C(C(C(O1)N2C=CC(=NC2=O)N)O)O)O)OP(=O)(O)O',\n",
       " 'CC=CCCC(=CCCC(=CCCC(=CCCC(=CCCC(=CCCC(=CCCC(=CCC1=C(C(=CC=C1)OC)O)C)C)C)C)C)C)C',\n",
       " 'CC(=CCCC(=CCCC(=CCCC(=CCCC(=CCCC(=CCCC(=CCCC(=CCC1=C(C(=CC=C1)O)O)C)C)C)C)C)C)C)C',\n",
       " 'CC(C)C(C(C(=O)O)O)C(=O)O',\n",
       " 'C1=CC(OC1=O)(CC(=O)O)Cl',\n",
       " 'C(CC(=O)N)C(=O)C(=O)O',\n",
       " 'C=C(C(=O)O)OC1CC(=CC(C1O)OP(=O)(O)O)C(=O)O',\n",
       " 'C1=C(C=C(C(=C1O)O)O)O',\n",
       " 'C1=CC(C(C(=C1)C(=O)O)O)O',\n",
       " 'CC(C)C(CC(=O)O)(C(=O)O)O',\n",
       " 'C1=CC(=CC(=C1)O)C=O',\n",
       " 'C1=CC(=C(C=C1Cl)O)Cl',\n",
       " 'CCC(C(=O)C)(C(=O)O)O',\n",
       " 'CC1(COC(=O)C1=O)C',\n",
       " 'C(C(=O)C(=O)O)S',\n",
       " 'CC(CO)(C(COP(=O)(O)O)O)O',\n",
       " 'C(C(C(C(C(=O)C(=O)O)O)O)O)O',\n",
       " 'C(CC(=O)O)C(=O)C=CC=C(C(=O)O)O',\n",
       " 'C(CC(=O)C(=O)O)CC(=O)O',\n",
       " 'CC(CCC(=O)SCCNC(=O)CCNC(=O)C(C(C)(C)COP(=O)(O)OP(=O)(O)OCC1C(C(C(O1)N2C=NC3=C(N=CN=C32)N)O)OP(=O)(O)O)O)C4CCC5C4(C(CC6C5C(CC7C6(CCC(=O)C7)C)O)O)C',\n",
       " 'CCC(=O)C(=O)O',\n",
       " 'CC(=CC(=O)SCCNC(=O)CCNC(=O)C(C(C)(C)COP(=O)(O)OP(=O)(O)OCC1C(C(C(O1)N2C=NC3=C(N=CN=C32)N)O)OP(=O)(O)O)O)C',\n",
       " 'COC1=CC2=C(C=CN=C2C=C1)C(C3CC4CCN3CC4(C=C)O)O',\n",
       " 'C(C(=O)[O-])(C(=O)[O-])O',\n",
       " 'CC(C(C)O)C(=O)SCCNC(=O)CCNC(=O)C(C(C)(C)COP(=O)(O)OP(=O)(O)OCC1C(C(C(O1)N2C=NC3=C(N=CN=C32)N)O)OP(=O)(O)O)O',\n",
       " 'CC(CC(C(=O)O)N)N',\n",
       " 'CC(=O)C(=O)C1=NC2C(N=C(NC2=O)N)N(C1O)O',\n",
       " 'CC(C)(CO)C(=O)C(=O)O',\n",
       " 'CC(C)(COP(=O)(O)OP(=O)(O)OCC1C(C(C(O1)N2C=NC3=C(N=CN=C32)N)O)OP(=O)(O)O)C(C(=O)NCCC(=O)NCCSC(=O)CC(CCC(=O)O)O)O',\n",
       " 'CC(=CCCC(=CCCC(=CCCC(=CCCC(=CCCC(=CCCC(=CCCC(=CCC1=CC=CC=C1O)C)C)C)C)C)C)C)C',\n",
       " 'C(C(C(C(COP(=O)(O)O)O)O)O)C(=O)C(=O)O',\n",
       " 'C1C=CC(=NC1C(=O)O)C(=O)O',\n",
       " 'CC(CO)C(=O)O',\n",
       " 'C(C(=O)O)(C(=O)O)O',\n",
       " 'CC(C)C(=O)C(=O)O',\n",
       " 'C(C(C(C(=O)C(C(=O)O)O)O)O)O',\n",
       " 'C(=CC=O)C=C(C(=O)O)N',\n",
       " 'C1=CC(=CC(=C1)O)CO',\n",
       " 'CCC(C)C(=O)C(=O)O',\n",
       " 'C(C(C(=O)O)OP(=O)(O)O)O',\n",
       " 'C(=CC(=O)O)C=C(C(=O)O)N',\n",
       " 'C(C(=O)COP(=O)(O)O)N',\n",
       " 'C1=C(C(C=C(C1O)Cl)Cl)Cl',\n",
       " 'CC(C(=O)C)C(=O)SCCNC(=O)CCNC(=O)C(C(C)(C)COP(=O)(O)OP(=O)(O)OCC1C(C(C(O1)N2C=NC3=C(N=CN=C32)N)O)OP(=O)(O)O)O',\n",
       " 'C(=CC(=C(C(=O)O)N)C(=O)O)C=O',\n",
       " 'C1=CC(=CC(=C1)O)CCC(=O)O',\n",
       " 'CC(CN)O',\n",
       " 'C(C(C(=O)O)N)Cl',\n",
       " 'C(CCl)O',\n",
       " 'CC(C)CC(=O)C(=O)O',\n",
       " 'CC(=O)CC(=O)SCCNC(=O)CCNC(=O)C(C(C)(C)COP(=O)(O)OP(=O)(O)OCC1C(C(C(O1)N2C=NC3=C(N=CN=C32)N)O)OP(=O)(O)O)O',\n",
       " 'C(C(C(COP(=O)(O)O)O)O)C(=O)C(=O)O',\n",
       " 'C(CC(=O)O)C(=O)C(=O)O',\n",
       " 'C(CC(=O)O)C(=O)CC(=O)O',\n",
       " 'C1(C(C(C(C(C1O)O)OP(=O)(O)O)O)O)O',\n",
       " 'C1=C(C(C=C(C1O)Cl)O)Cl',\n",
       " 'CC(=O)OC(CC(=O)[O-])C[N+](C)(C)C',\n",
       " 'CC(C)(COP(=O)(O)OP(=O)(O)OCC1C(C(C(O1)N2C=NC3=C(N=CN=C32)N)O)OP(=O)(O)O)C(C(=O)NCCC(=O)NCCSC(=O)CC(=O)CCC(=O)O)O',\n",
       " 'C(C(C(=O)O)OP(=O)(O)O)OP(=O)(O)O',\n",
       " 'C(C(C(C1(C(N(C2C(N1O)C(=O)NC(=N2)N)O)O)O)O)O)O',\n",
       " 'C1=C(C(=CC(=C1Cl)O)Cl)O',\n",
       " 'C(C(=O)C(C(C(=O)C(=O)O)O)O)O',\n",
       " 'CCC(C)(C(C(=O)O)O)O',\n",
       " 'CC(=CCCC(=CCCC(=CCCC(=CCCC(=CCCC(=CCCC(=CCCC(=CCC1=C(C=CC(=C1)C(=O)O)O)C)C)C)C)C)C)C)C',\n",
       " 'CC12CCC(=O)CC1CCC3C2CCC4(C3CCC4O)C',\n",
       " 'C1=CC(=C(C=C1C(=O)O)O)O',\n",
       " 'C1=CC(=C(C(=C1)O)N)C(=O)CC(C(=O)O)N',\n",
       " 'C1CCC(=O)NCCCCCC(=O)NCC1',\n",
       " 'C(C=O)Cl',\n",
       " 'C(=CC(=O)O)C=C(C(=O)O)C(=O)O',\n",
       " 'C1=CC(=C(C=C1Cl)Cl)Cl',\n",
       " 'C1=CC(=C(C(=C1)O)O)CCC(=O)O',\n",
       " 'CC(=O)C(C)(C(=O)O)O',\n",
       " 'CCC(C)C(=O)SCCNC(=O)CCNC(=O)C(C(C)(C)COP(=O)(O)OP(=O)(O)OCC1C(C(C(O1)N2C=NC3=C(N=CN=C32)N)O)OP(=O)(O)O)O',\n",
       " 'C(=O)C(C(=O)O)N',\n",
       " 'CCN1C=NC2=C(N=CN=C21)N',\n",
       " 'C(CN)C=O',\n",
       " 'C1C(C(C(=O)C=C1C(=O)O)O)O',\n",
       " 'CC(=O)OC(CC(=O)O)C[N+](C)(C)C',\n",
       " 'C(C(C(C(=O)C(=O)C(=O)O)O)O)O',\n",
       " 'CC1(C(COP(=O)(OP(=O)(O1)O)O)O)CO',\n",
       " 'C(C(=O)C(=O)O)P(=O)O',\n",
       " 'C1=CC(=C(C=C1[N+](=O)[O-])[N+](=O)[O-])Cl',\n",
       " 'C1=CC(=CN=C1)C#N',\n",
       " 'C(CCl)Cl',\n",
       " 'CC12CCC3C(C1CCC2=O)CC=C4C3(CCC(C4)O)C',\n",
       " 'CCCCCC(=O)C=CC1C(CC(=O)C1CCCCCCC(=O)O)O',\n",
       " 'CSCCC(=O)C(=COP(=O)(O)O)O']"
      ]
     },
     "execution_count": 4,
     "metadata": {},
     "output_type": "execute_result"
    }
   ],
   "source": [
    "list_smiles"
   ]
  },
  {
   "cell_type": "code",
   "execution_count": 5,
   "metadata": {},
   "outputs": [
    {
     "data": {
      "text/plain": [
       "'CC(C)(COP(=O)(O)OP(=O)(O)OCC1C(C(C(O1)N2C=NC3=C(N=CN=C32)N)O)OP(=O)(O)O)C(C(=O)NCCC(=O)NCCSC(=O)CC(C)(CC(=O)O)O)O'"
      ]
     },
     "execution_count": 5,
     "metadata": {},
     "output_type": "execute_result"
    }
   ],
   "source": [
    "list_smiles[0]"
   ]
  },
  {
   "cell_type": "code",
   "execution_count": 22,
   "metadata": {},
   "outputs": [],
   "source": [
    "def check_image(smiles):\n",
    "    if len(smiles) >= 150:\n",
    "        return False\n",
    "\n",
    "    m = Chem.MolFromSmiles(smiles)\n",
    "    if (m!=None):\n",
    "        try:\n",
    "            img = Draw.MolToImage(m, size=(300,300))\n",
    "            return True\n",
    "        except Exception as e:\n",
    "            print(\"1: \", smiles, e)\n",
    "            return False\n",
    "    return False\n",
    "\n",
    "#def pool_filter(pool, func, candidates):\n",
    "#    return [c for c, keep in zip(candidates, pool.imap(func, tqdm(candidates) )) if keep]"
   ]
  },
  {
   "cell_type": "code",
   "execution_count": 21,
   "metadata": {},
   "outputs": [],
   "source": [
    "#list_smiles = pool_filter(p, check_image, list_smiles)"
   ]
  },
  {
   "cell_type": "code",
   "execution_count": 34,
   "metadata": {},
   "outputs": [
    {
     "data": {
      "text/html": [
       "<div>\n",
       "<style scoped>\n",
       "    .dataframe tbody tr th:only-of-type {\n",
       "        vertical-align: middle;\n",
       "    }\n",
       "\n",
       "    .dataframe tbody tr th {\n",
       "        vertical-align: top;\n",
       "    }\n",
       "\n",
       "    .dataframe thead th {\n",
       "        text-align: right;\n",
       "    }\n",
       "</style>\n",
       "<table border=\"1\" class=\"dataframe\">\n",
       "  <thead>\n",
       "    <tr style=\"text-align: right;\">\n",
       "      <th></th>\n",
       "      <th>image_id</th>\n",
       "      <th>InChI</th>\n",
       "    </tr>\n",
       "  </thead>\n",
       "  <tbody>\n",
       "  </tbody>\n",
       "</table>\n",
       "</div>"
      ],
      "text/plain": [
       "Empty DataFrame\n",
       "Columns: [image_id, InChI]\n",
       "Index: []"
      ]
     },
     "execution_count": 34,
     "metadata": {},
     "output_type": "execute_result"
    }
   ],
   "source": [
    "raw_data = {'image_id' : [], 'InChI' : []}\n",
    "data = pd.DataFrame(raw_data)\n",
    "data"
   ]
  },
  {
   "cell_type": "code",
   "execution_count": 39,
   "metadata": {},
   "outputs": [],
   "source": [
    "def make_inchi(smile) : \n",
    "    m = Chem.MolFromSmiles(smile)\n",
    "    inchi = Chem.rdinchi.MolToInchi(m)\n",
    "    return inchi[0]"
   ]
  },
  {
   "cell_type": "code",
   "execution_count": 40,
   "metadata": {},
   "outputs": [
    {
     "name": "stderr",
     "output_type": "stream",
     "text": [
      "100it [00:00, 161.31it/s]\n"
     ]
    }
   ],
   "source": [
    "for i, smile in tqdm(enumerate(list_smiles)) :\n",
    "    if check_image(smile) :\n",
    "        inchi = make_inchi(smile)\n",
    "        image_id = str(i).zfill(7)\n",
    "        data.loc[i] = [image_id, inchi]"
   ]
  },
  {
   "cell_type": "code",
   "execution_count": 45,
   "metadata": {},
   "outputs": [
    {
     "data": {
      "text/html": [
       "<div>\n",
       "<style scoped>\n",
       "    .dataframe tbody tr th:only-of-type {\n",
       "        vertical-align: middle;\n",
       "    }\n",
       "\n",
       "    .dataframe tbody tr th {\n",
       "        vertical-align: top;\n",
       "    }\n",
       "\n",
       "    .dataframe thead th {\n",
       "        text-align: right;\n",
       "    }\n",
       "</style>\n",
       "<table border=\"1\" class=\"dataframe\">\n",
       "  <thead>\n",
       "    <tr style=\"text-align: right;\">\n",
       "      <th></th>\n",
       "      <th>image_id</th>\n",
       "      <th>InChI</th>\n",
       "    </tr>\n",
       "  </thead>\n",
       "  <tbody>\n",
       "    <tr>\n",
       "      <th>0</th>\n",
       "      <td>0000000</td>\n",
       "      <td>InChI=1S/C27H44N7O20P3S/c1-26(2,21(40)24(41)30...</td>\n",
       "    </tr>\n",
       "    <tr>\n",
       "      <th>1</th>\n",
       "      <td>0000001</td>\n",
       "      <td>InChI=1S/C25H42N7O18P3S/c1-13(8-33)24(38)54-7-...</td>\n",
       "    </tr>\n",
       "    <tr>\n",
       "      <th>2</th>\n",
       "      <td>0000002</td>\n",
       "      <td>InChI=1S/C6H10O6/c7-2-5(10)3(8)1-4(9)6(11)12/h...</td>\n",
       "    </tr>\n",
       "    <tr>\n",
       "      <th>3</th>\n",
       "      <td>0000003</td>\n",
       "      <td>InChI=1S/C7H15NO3/c1-8(2,3)5-6(9)4-7(10)11/h6,...</td>\n",
       "    </tr>\n",
       "    <tr>\n",
       "      <th>4</th>\n",
       "      <td>0000004</td>\n",
       "      <td>InChI=1S/C12H20O11/c13-1-3-5(15)6(16)9(19)12(2...</td>\n",
       "    </tr>\n",
       "    <tr>\n",
       "      <th>...</th>\n",
       "      <td>...</td>\n",
       "      <td>...</td>\n",
       "    </tr>\n",
       "    <tr>\n",
       "      <th>95</th>\n",
       "      <td>0000095</td>\n",
       "      <td>InChI=1S/C6H4N2/c7-4-6-2-1-3-8-5-6/h1-3,5H</td>\n",
       "    </tr>\n",
       "    <tr>\n",
       "      <th>96</th>\n",
       "      <td>0000096</td>\n",
       "      <td>InChI=1S/C2H4Cl2/c3-1-2-4/h1-2H2</td>\n",
       "    </tr>\n",
       "    <tr>\n",
       "      <th>97</th>\n",
       "      <td>0000097</td>\n",
       "      <td>InChI=1S/C19H28O2/c1-18-9-7-13(20)11-12(18)3-4...</td>\n",
       "    </tr>\n",
       "    <tr>\n",
       "      <th>98</th>\n",
       "      <td>0000098</td>\n",
       "      <td>InChI=1S/C20H32O5/c1-2-3-6-9-15(21)12-13-17-16...</td>\n",
       "    </tr>\n",
       "    <tr>\n",
       "      <th>99</th>\n",
       "      <td>0000099</td>\n",
       "      <td>InChI=1S/C6H11O6PS/c1-14-3-2-5(7)6(8)4-12-13(9...</td>\n",
       "    </tr>\n",
       "  </tbody>\n",
       "</table>\n",
       "<p>100 rows × 2 columns</p>\n",
       "</div>"
      ],
      "text/plain": [
       "   image_id                                              InChI\n",
       "0   0000000  InChI=1S/C27H44N7O20P3S/c1-26(2,21(40)24(41)30...\n",
       "1   0000001  InChI=1S/C25H42N7O18P3S/c1-13(8-33)24(38)54-7-...\n",
       "2   0000002  InChI=1S/C6H10O6/c7-2-5(10)3(8)1-4(9)6(11)12/h...\n",
       "3   0000003  InChI=1S/C7H15NO3/c1-8(2,3)5-6(9)4-7(10)11/h6,...\n",
       "4   0000004  InChI=1S/C12H20O11/c13-1-3-5(15)6(16)9(19)12(2...\n",
       "..      ...                                                ...\n",
       "95  0000095         InChI=1S/C6H4N2/c7-4-6-2-1-3-8-5-6/h1-3,5H\n",
       "96  0000096                   InChI=1S/C2H4Cl2/c3-1-2-4/h1-2H2\n",
       "97  0000097  InChI=1S/C19H28O2/c1-18-9-7-13(20)11-12(18)3-4...\n",
       "98  0000098  InChI=1S/C20H32O5/c1-2-3-6-9-15(21)12-13-17-16...\n",
       "99  0000099  InChI=1S/C6H11O6PS/c1-14-3-2-5(7)6(8)4-12-13(9...\n",
       "\n",
       "[100 rows x 2 columns]"
      ]
     },
     "execution_count": 45,
     "metadata": {},
     "output_type": "execute_result"
    }
   ],
   "source": [
    "data"
   ]
  },
  {
   "cell_type": "code",
   "execution_count": 44,
   "metadata": {},
   "outputs": [
    {
     "name": "stdout",
     "output_type": "stream",
     "text": [
      "100\n"
     ]
    }
   ],
   "source": [
    "print(len(data))"
   ]
  },
  {
   "cell_type": "code",
   "execution_count": null,
   "metadata": {},
   "outputs": [],
   "source": []
  }
 ],
 "metadata": {
  "kernelspec": {
   "display_name": "Python 3",
   "language": "python",
   "name": "python3"
  },
  "language_info": {
   "codemirror_mode": {
    "name": "ipython",
    "version": 3
   },
   "file_extension": ".py",
   "mimetype": "text/x-python",
   "name": "python",
   "nbconvert_exporter": "python",
   "pygments_lexer": "ipython3",
   "version": "3.7.9"
  }
 },
 "nbformat": 4,
 "nbformat_minor": 4
}
